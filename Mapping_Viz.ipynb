{
 "cells": [
  {
   "cell_type": "code",
   "execution_count": 4,
   "metadata": {},
   "outputs": [
    {
     "output_type": "execute_result",
     "data": {
      "text/plain": "WindowsPath('Data/Country_Code.csv')"
     },
     "metadata": {},
     "execution_count": 4
    }
   ],
   "source": [
    "# Want to do some map plotting :)\n",
    "\n",
    "import pandas as pd\n",
    "import reverse_geocoder as rg\n",
    "from pathlib import Path\n",
    "\n",
    "df_path = Path(r'Data\\Country_Code.csv')\n",
    "df_path"
   ]
  },
  {
   "cell_type": "code",
   "execution_count": 5,
   "metadata": {},
   "outputs": [
    {
     "output_type": "execute_result",
     "data": {
      "text/plain": "      Unnamed: 0        Lat        Long Venue_Type  \\\n0              0  35.661916  139.735097   shopping   \n1              1  35.668955  139.761436   shopping   \n2              2  35.663355  139.732951   shopping   \n3              3  35.663773  139.731444   shopping   \n4              4  49.595684   17.250112   shopping   \n...          ...        ...         ...        ...   \n1096        1096  46.252965   14.455824  transport   \n1097        1097  46.019798   14.542299       cafe   \n1098        1098  36.717352   -4.421144    default   \n1099        1099  46.075251    6.564878   shopping   \n1100        1100  20.020835  -75.804205    lodging   \n\n                           Venue_Name  Created_On  \\\n0                GCゆきざき (GC Yukizaki)  1580182467   \n1                GCゆきざき (GC Yukizaki)  1580182719   \n2     GCゆきざき Gem Castle (GC Yukizaki)  1580182929   \n3                GCゆきざき (GC Yukizaki)  1580183013   \n4                       Marton's Work  1579299302   \n...                               ...         ...   \n1096                 Avtoservis Selan  1589371328   \n1097                    Coffee shop P  1589527617   \n1098                      PM Abogados  1589653233   \n1099                    CITADEL Vault  1589811913   \n1100                       Casa Piñol  1589808399   \n\n                                latlong Country  \n0     (35.66191632, 139.73509669999999)      JP  \n1             (35.66895489, 139.761436)      JP  \n2     (35.66335459, 139.73295090000002)      JP  \n3            (35.66377299, 139.7314435)      JP  \n4             (49.59568425, 17.2501123)      CZ  \n...                                 ...     ...  \n1096         (46.25296472, 14.45582449)      SI  \n1097  (46.019797499999996, 14.54229891)      SI  \n1098         (36.7173523, -4.421144128)      ES  \n1099         (46.07525136, 6.564878225)      FR  \n1100        (20.02083498, -75.80420494)      CU  \n\n[1101 rows x 8 columns]",
      "text/html": "<div>\n<style scoped>\n    .dataframe tbody tr th:only-of-type {\n        vertical-align: middle;\n    }\n\n    .dataframe tbody tr th {\n        vertical-align: top;\n    }\n\n    .dataframe thead th {\n        text-align: right;\n    }\n</style>\n<table border=\"1\" class=\"dataframe\">\n  <thead>\n    <tr style=\"text-align: right;\">\n      <th></th>\n      <th>Unnamed: 0</th>\n      <th>Lat</th>\n      <th>Long</th>\n      <th>Venue_Type</th>\n      <th>Venue_Name</th>\n      <th>Created_On</th>\n      <th>latlong</th>\n      <th>Country</th>\n    </tr>\n  </thead>\n  <tbody>\n    <tr>\n      <th>0</th>\n      <td>0</td>\n      <td>35.661916</td>\n      <td>139.735097</td>\n      <td>shopping</td>\n      <td>GCゆきざき (GC Yukizaki)</td>\n      <td>1580182467</td>\n      <td>(35.66191632, 139.73509669999999)</td>\n      <td>JP</td>\n    </tr>\n    <tr>\n      <th>1</th>\n      <td>1</td>\n      <td>35.668955</td>\n      <td>139.761436</td>\n      <td>shopping</td>\n      <td>GCゆきざき (GC Yukizaki)</td>\n      <td>1580182719</td>\n      <td>(35.66895489, 139.761436)</td>\n      <td>JP</td>\n    </tr>\n    <tr>\n      <th>2</th>\n      <td>2</td>\n      <td>35.663355</td>\n      <td>139.732951</td>\n      <td>shopping</td>\n      <td>GCゆきざき Gem Castle (GC Yukizaki)</td>\n      <td>1580182929</td>\n      <td>(35.66335459, 139.73295090000002)</td>\n      <td>JP</td>\n    </tr>\n    <tr>\n      <th>3</th>\n      <td>3</td>\n      <td>35.663773</td>\n      <td>139.731444</td>\n      <td>shopping</td>\n      <td>GCゆきざき (GC Yukizaki)</td>\n      <td>1580183013</td>\n      <td>(35.66377299, 139.7314435)</td>\n      <td>JP</td>\n    </tr>\n    <tr>\n      <th>4</th>\n      <td>4</td>\n      <td>49.595684</td>\n      <td>17.250112</td>\n      <td>shopping</td>\n      <td>Marton's Work</td>\n      <td>1579299302</td>\n      <td>(49.59568425, 17.2501123)</td>\n      <td>CZ</td>\n    </tr>\n    <tr>\n      <th>...</th>\n      <td>...</td>\n      <td>...</td>\n      <td>...</td>\n      <td>...</td>\n      <td>...</td>\n      <td>...</td>\n      <td>...</td>\n      <td>...</td>\n    </tr>\n    <tr>\n      <th>1096</th>\n      <td>1096</td>\n      <td>46.252965</td>\n      <td>14.455824</td>\n      <td>transport</td>\n      <td>Avtoservis Selan</td>\n      <td>1589371328</td>\n      <td>(46.25296472, 14.45582449)</td>\n      <td>SI</td>\n    </tr>\n    <tr>\n      <th>1097</th>\n      <td>1097</td>\n      <td>46.019798</td>\n      <td>14.542299</td>\n      <td>cafe</td>\n      <td>Coffee shop P</td>\n      <td>1589527617</td>\n      <td>(46.019797499999996, 14.54229891)</td>\n      <td>SI</td>\n    </tr>\n    <tr>\n      <th>1098</th>\n      <td>1098</td>\n      <td>36.717352</td>\n      <td>-4.421144</td>\n      <td>default</td>\n      <td>PM Abogados</td>\n      <td>1589653233</td>\n      <td>(36.7173523, -4.421144128)</td>\n      <td>ES</td>\n    </tr>\n    <tr>\n      <th>1099</th>\n      <td>1099</td>\n      <td>46.075251</td>\n      <td>6.564878</td>\n      <td>shopping</td>\n      <td>CITADEL Vault</td>\n      <td>1589811913</td>\n      <td>(46.07525136, 6.564878225)</td>\n      <td>FR</td>\n    </tr>\n    <tr>\n      <th>1100</th>\n      <td>1100</td>\n      <td>20.020835</td>\n      <td>-75.804205</td>\n      <td>lodging</td>\n      <td>Casa Piñol</td>\n      <td>1589808399</td>\n      <td>(20.02083498, -75.80420494)</td>\n      <td>CU</td>\n    </tr>\n  </tbody>\n</table>\n<p>1101 rows × 8 columns</p>\n</div>"
     },
     "metadata": {},
     "execution_count": 5
    }
   ],
   "source": [
    "venues_df = pd.read_csv(df_path)\n",
    "venues_df"
   ]
  },
  {
   "cell_type": "code",
   "execution_count": null,
   "metadata": {},
   "outputs": [],
   "source": []
  }
 ],
 "metadata": {
  "language_info": {
   "codemirror_mode": {
    "name": "ipython",
    "version": 3
   },
   "file_extension": ".py",
   "mimetype": "text/x-python",
   "name": "python",
   "nbconvert_exporter": "python",
   "pygments_lexer": "ipython3",
   "version": "3.8.2-final"
  },
  "orig_nbformat": 2,
  "kernelspec": {
   "name": "python38264bitdatmineconda86b6e4bf63764017b08f3434f2efacc2",
   "display_name": "Python 3.8.2 64-bit ('dat_mine': conda)"
  }
 },
 "nbformat": 4,
 "nbformat_minor": 2
}