{
 "cells": [
  {
   "cell_type": "code",
   "execution_count": 54,
   "metadata": {},
   "outputs": [],
   "source": [
    "# Imports and inis\n",
    "import pandas as pd\n",
    "import reverse_geocoder as rg\n",
    "from pathlib import Path\n",
    "\n",
    "# path is relative, so set as needed\n",
    "df_path = Path(r'Data\\CoinMap_NewVenues_May182020_RAW.csv')\n"
   ]
  },
  {
   "cell_type": "code",
   "execution_count": 61,
   "metadata": {},
   "outputs": [
    {
     "output_type": "execute_result",
     "data": {
      "text/plain": "(1101, 5)"
     },
     "metadata": {},
     "execution_count": 61
    }
   ],
   "source": [
    "# Get data\n",
    "venues_df = pd.read_csv(df_path)\n",
    "\n",
    "venues_df.head()\n",
    "venues_df.shape\n"
   ]
  },
  {
   "cell_type": "code",
   "execution_count": null,
   "metadata": {},
   "outputs": [],
   "source": [
    "\n",
    "# # Test df\n",
    "# temp = venues_df.loc[:15]\n",
    "# temp"
   ]
  },
  {
   "cell_type": "code",
   "execution_count": 58,
   "metadata": {},
   "outputs": [],
   "source": [
    "# Custom get country code\n",
    "def get_country(x):\n",
    "    return rg.search(x)[0].get('cc')"
   ]
  },
  {
   "cell_type": "code",
   "execution_count": 63,
   "metadata": {},
   "outputs": [],
   "source": [
    "# Get country of origin THIS TAKES A LONG TIME\n",
    "venues_df['latlong'] = tuple(zip(venues_df['Lat'],venues_df['Long']))\n",
    "venues_df['Country'] = venues_df['latlong'].apply(get_country)"
   ]
  },
  {
   "cell_type": "code",
   "execution_count": 64,
   "metadata": {},
   "outputs": [
    {
     "output_type": "execute_result",
     "data": {
      "text/plain": "         Lat        Long Venue_Type                       Venue_Name  \\\n0  35.661916  139.735097   shopping             GCゆきざき (GC Yukizaki)   \n1  35.668955  139.761436   shopping             GCゆきざき (GC Yukizaki)   \n2  35.663355  139.732951   shopping  GCゆきざき Gem Castle (GC Yukizaki)   \n3  35.663773  139.731444   shopping             GCゆきざき (GC Yukizaki)   \n4  49.595684   17.250112   shopping                    Marton's Work   \n\n   Created_On                            latlong Country  \n0  1580182467  (35.66191632, 139.73509669999999)      JP  \n1  1580182719          (35.66895489, 139.761436)      JP  \n2  1580182929  (35.66335459, 139.73295090000002)      JP  \n3  1580183013         (35.66377299, 139.7314435)      JP  \n4  1579299302          (49.59568425, 17.2501123)      CZ  ",
      "text/html": "<div>\n<style scoped>\n    .dataframe tbody tr th:only-of-type {\n        vertical-align: middle;\n    }\n\n    .dataframe tbody tr th {\n        vertical-align: top;\n    }\n\n    .dataframe thead th {\n        text-align: right;\n    }\n</style>\n<table border=\"1\" class=\"dataframe\">\n  <thead>\n    <tr style=\"text-align: right;\">\n      <th></th>\n      <th>Lat</th>\n      <th>Long</th>\n      <th>Venue_Type</th>\n      <th>Venue_Name</th>\n      <th>Created_On</th>\n      <th>latlong</th>\n      <th>Country</th>\n    </tr>\n  </thead>\n  <tbody>\n    <tr>\n      <th>0</th>\n      <td>35.661916</td>\n      <td>139.735097</td>\n      <td>shopping</td>\n      <td>GCゆきざき (GC Yukizaki)</td>\n      <td>1580182467</td>\n      <td>(35.66191632, 139.73509669999999)</td>\n      <td>JP</td>\n    </tr>\n    <tr>\n      <th>1</th>\n      <td>35.668955</td>\n      <td>139.761436</td>\n      <td>shopping</td>\n      <td>GCゆきざき (GC Yukizaki)</td>\n      <td>1580182719</td>\n      <td>(35.66895489, 139.761436)</td>\n      <td>JP</td>\n    </tr>\n    <tr>\n      <th>2</th>\n      <td>35.663355</td>\n      <td>139.732951</td>\n      <td>shopping</td>\n      <td>GCゆきざき Gem Castle (GC Yukizaki)</td>\n      <td>1580182929</td>\n      <td>(35.66335459, 139.73295090000002)</td>\n      <td>JP</td>\n    </tr>\n    <tr>\n      <th>3</th>\n      <td>35.663773</td>\n      <td>139.731444</td>\n      <td>shopping</td>\n      <td>GCゆきざき (GC Yukizaki)</td>\n      <td>1580183013</td>\n      <td>(35.66377299, 139.7314435)</td>\n      <td>JP</td>\n    </tr>\n    <tr>\n      <th>4</th>\n      <td>49.595684</td>\n      <td>17.250112</td>\n      <td>shopping</td>\n      <td>Marton's Work</td>\n      <td>1579299302</td>\n      <td>(49.59568425, 17.2501123)</td>\n      <td>CZ</td>\n    </tr>\n  </tbody>\n</table>\n</div>"
     },
     "metadata": {},
     "execution_count": 64
    }
   ],
   "source": [
    "venues_df.head()"
   ]
  },
  {
   "cell_type": "code",
   "execution_count": 66,
   "metadata": {},
   "outputs": [],
   "source": [
    "venues_df.to_csv('Country_Code.csv')"
   ]
  }
 ],
 "metadata": {
  "language_info": {
   "codemirror_mode": {
    "name": "ipython",
    "version": 3
   },
   "file_extension": ".py",
   "mimetype": "text/x-python",
   "name": "python",
   "nbconvert_exporter": "python",
   "pygments_lexer": "ipython3",
   "version": "3.8.2-final"
  },
  "orig_nbformat": 2,
  "kernelspec": {
   "name": "python38264bitdatmineconda86b6e4bf63764017b08f3434f2efacc2",
   "display_name": "Python 3.8.2 64-bit ('dat_mine': conda)"
  }
 },
 "nbformat": 4,
 "nbformat_minor": 2
}