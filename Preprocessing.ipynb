{
 "cells": [
  {
   "cell_type": "code",
   "execution_count": 1,
   "metadata": {},
   "outputs": [],
   "source": [
    "# Imports and inis\n",
    "import pandas as pd\n",
    "import reverse_geocoder as rg\n",
    "from pathlib import Path\n",
    "\n",
    "# path is relative, so set as needed\n",
    "df_path = Path(r'Data\\CoinMap_NewVenues_since2018.csv')\n"
   ]
  },
  {
   "cell_type": "code",
   "execution_count": 2,
   "metadata": {},
   "outputs": [
    {
     "output_type": "execute_result",
     "data": {
      "text/plain": "(6905, 9)"
     },
     "metadata": {},
     "execution_count": 2
    }
   ],
   "source": [
    "# Get data\n",
    "venues_df = pd.read_csv(df_path)\n",
    "\n",
    "venues_df.head()\n",
    "venues_df.shape\n"
   ]
  },
  {
   "cell_type": "code",
   "execution_count": 20,
   "metadata": {},
   "outputs": [],
   "source": [
    "# Custom get country code\n",
    "def get_country_city(x):\n",
    "    return rg.search(x)[0].get('cc'), rg.search(x)[0].get('name')"
   ]
  },
  {
   "cell_type": "code",
   "execution_count": 5,
   "metadata": {},
   "outputs": [],
   "source": [
    "# Zip lat long into one column\n",
    "venues_df['latlong'] = tuple(zip(venues_df['Lat'],venues_df['Long']))"
   ]
  },
  {
   "cell_type": "code",
   "execution_count": 21,
   "metadata": {},
   "outputs": [
    {
     "output_type": "execute_result",
     "data": {
      "text/plain": "('ES', 'Benidorm')"
     },
     "metadata": {},
     "execution_count": 21
    }
   ],
   "source": [
    "get_country_city(venues_df['latlong'][77])"
   ]
  },
  {
   "cell_type": "code",
   "execution_count": 23,
   "metadata": {},
   "outputs": [
    {
     "output_type": "execute_result",
     "data": {
      "text/plain": "          Lat        Long Venue_Type  \\\n0   10.377644  -75.496582       food   \n1   40.647499   22.920163    default   \n2   42.000524   12.564636       food   \n3  -23.558042  -46.660100   shopping   \n4   45.539970   13.734852   shopping   \n5   10.181132  -68.005028    default   \n6   22.326323  114.205676       food   \n7   46.068307   14.543801    default   \n8   46.056131   14.508138       cafe   \n9   33.491607   49.052528    default   \n10   7.821304  -72.454973        atm   \n11   7.685070  -72.244120    default   \n12   7.771344  -72.226170    default   \n13  22.284733  114.150910    default   \n14  46.072914   14.468785    default   \n15  46.540488   15.607334       food   \n\n                                      Venue_Name  Created_On_Epoch  \\\n0                                  QUESOS NENECO        1564682328   \n1   Ταπετσαρίες αυτοκινήτων - ΚΑΡΑΜΠΕΡΗΣ ΧΡΗΣΤΟΣ        1530718484   \n2                     AZIENDA AGRICOLA FORTUNATO        1551976752   \n3                                       KriptoBR        1534775809   \n4                             Buzz, Planet Koper        1574094032   \n5                     Soporte PC y Criptomonedas        1551983266   \n6                                    Wandersnack        1564727493   \n7                                  Clarus Dental        1571312234   \n8                                       Trot Bar        1571312941   \n9                                  فروشگاه پرکنی        1540247322   \n10                         Athena Bitcoin Cajero        1552056980   \n11                       REPRESENTACIONES PLAST         1530729864   \n12                    COMERCIALIZADORA PIVECA CA        1530730169   \n13                                   Bitcoin ATM        1564732529   \n14                              Avtoservis Belec        1544179564   \n15                                    Mlada lipa        1544179669   \n\n    Created_On    Quarter  Year  Month                            latlong  \n0     8/1/2019  Quarter 3  2019      8        (10.37764401, -75.49658239)  \n1     7/4/2018  Quarter 3  2018      7         (40.64749893, 22.92016268)  \n2     3/7/2019  Quarter 1  2019      3         (42.00052447, 12.56463647)  \n3    8/20/2018  Quarter 3  2018      8       (-23.55804222, -46.66009963)  \n4   11/18/2019  Quarter 4  2019     11         (45.53996976, 13.73485208)  \n5     3/7/2019  Quarter 1  2019      3        (10.18113243, -68.00502777)  \n6     8/2/2019  Quarter 3  2019      8         (22.32632341, 114.2056757)  \n7   10/17/2019  Quarter 4  2019     10         (46.06830686, 14.54380095)  \n8   10/17/2019  Quarter 4  2019     10          (46.05613139, 14.5081383)  \n9   10/22/2018  Quarter 4  2018     10         (33.49160726, 49.05252814)  \n10    3/8/2019  Quarter 1  2019      3        (7.821303606, -72.45497346)  \n11    7/4/2018  Quarter 3  2018      7        (7.685070484, -72.24411964)  \n12    7/4/2018  Quarter 3  2018      7  (7.771344184, -72.22617029999999)  \n13    8/2/2019  Quarter 3  2019      8         (22.28473335, 114.1509104)  \n14   12/7/2018  Quarter 4  2018     12          (46.0729143, 14.46878493)  \n15   12/7/2018  Quarter 4  2018     12         (46.54048785, 15.60733438)  ",
      "text/html": "<div>\n<style scoped>\n    .dataframe tbody tr th:only-of-type {\n        vertical-align: middle;\n    }\n\n    .dataframe tbody tr th {\n        vertical-align: top;\n    }\n\n    .dataframe thead th {\n        text-align: right;\n    }\n</style>\n<table border=\"1\" class=\"dataframe\">\n  <thead>\n    <tr style=\"text-align: right;\">\n      <th></th>\n      <th>Lat</th>\n      <th>Long</th>\n      <th>Venue_Type</th>\n      <th>Venue_Name</th>\n      <th>Created_On_Epoch</th>\n      <th>Created_On</th>\n      <th>Quarter</th>\n      <th>Year</th>\n      <th>Month</th>\n      <th>latlong</th>\n    </tr>\n  </thead>\n  <tbody>\n    <tr>\n      <th>0</th>\n      <td>10.377644</td>\n      <td>-75.496582</td>\n      <td>food</td>\n      <td>QUESOS NENECO</td>\n      <td>1564682328</td>\n      <td>8/1/2019</td>\n      <td>Quarter 3</td>\n      <td>2019</td>\n      <td>8</td>\n      <td>(10.37764401, -75.49658239)</td>\n    </tr>\n    <tr>\n      <th>1</th>\n      <td>40.647499</td>\n      <td>22.920163</td>\n      <td>default</td>\n      <td>Ταπετσαρίες αυτοκινήτων - ΚΑΡΑΜΠΕΡΗΣ ΧΡΗΣΤΟΣ</td>\n      <td>1530718484</td>\n      <td>7/4/2018</td>\n      <td>Quarter 3</td>\n      <td>2018</td>\n      <td>7</td>\n      <td>(40.64749893, 22.92016268)</td>\n    </tr>\n    <tr>\n      <th>2</th>\n      <td>42.000524</td>\n      <td>12.564636</td>\n      <td>food</td>\n      <td>AZIENDA AGRICOLA FORTUNATO</td>\n      <td>1551976752</td>\n      <td>3/7/2019</td>\n      <td>Quarter 1</td>\n      <td>2019</td>\n      <td>3</td>\n      <td>(42.00052447, 12.56463647)</td>\n    </tr>\n    <tr>\n      <th>3</th>\n      <td>-23.558042</td>\n      <td>-46.660100</td>\n      <td>shopping</td>\n      <td>KriptoBR</td>\n      <td>1534775809</td>\n      <td>8/20/2018</td>\n      <td>Quarter 3</td>\n      <td>2018</td>\n      <td>8</td>\n      <td>(-23.55804222, -46.66009963)</td>\n    </tr>\n    <tr>\n      <th>4</th>\n      <td>45.539970</td>\n      <td>13.734852</td>\n      <td>shopping</td>\n      <td>Buzz, Planet Koper</td>\n      <td>1574094032</td>\n      <td>11/18/2019</td>\n      <td>Quarter 4</td>\n      <td>2019</td>\n      <td>11</td>\n      <td>(45.53996976, 13.73485208)</td>\n    </tr>\n    <tr>\n      <th>5</th>\n      <td>10.181132</td>\n      <td>-68.005028</td>\n      <td>default</td>\n      <td>Soporte PC y Criptomonedas</td>\n      <td>1551983266</td>\n      <td>3/7/2019</td>\n      <td>Quarter 1</td>\n      <td>2019</td>\n      <td>3</td>\n      <td>(10.18113243, -68.00502777)</td>\n    </tr>\n    <tr>\n      <th>6</th>\n      <td>22.326323</td>\n      <td>114.205676</td>\n      <td>food</td>\n      <td>Wandersnack</td>\n      <td>1564727493</td>\n      <td>8/2/2019</td>\n      <td>Quarter 3</td>\n      <td>2019</td>\n      <td>8</td>\n      <td>(22.32632341, 114.2056757)</td>\n    </tr>\n    <tr>\n      <th>7</th>\n      <td>46.068307</td>\n      <td>14.543801</td>\n      <td>default</td>\n      <td>Clarus Dental</td>\n      <td>1571312234</td>\n      <td>10/17/2019</td>\n      <td>Quarter 4</td>\n      <td>2019</td>\n      <td>10</td>\n      <td>(46.06830686, 14.54380095)</td>\n    </tr>\n    <tr>\n      <th>8</th>\n      <td>46.056131</td>\n      <td>14.508138</td>\n      <td>cafe</td>\n      <td>Trot Bar</td>\n      <td>1571312941</td>\n      <td>10/17/2019</td>\n      <td>Quarter 4</td>\n      <td>2019</td>\n      <td>10</td>\n      <td>(46.05613139, 14.5081383)</td>\n    </tr>\n    <tr>\n      <th>9</th>\n      <td>33.491607</td>\n      <td>49.052528</td>\n      <td>default</td>\n      <td>فروشگاه پرکنی</td>\n      <td>1540247322</td>\n      <td>10/22/2018</td>\n      <td>Quarter 4</td>\n      <td>2018</td>\n      <td>10</td>\n      <td>(33.49160726, 49.05252814)</td>\n    </tr>\n    <tr>\n      <th>10</th>\n      <td>7.821304</td>\n      <td>-72.454973</td>\n      <td>atm</td>\n      <td>Athena Bitcoin Cajero</td>\n      <td>1552056980</td>\n      <td>3/8/2019</td>\n      <td>Quarter 1</td>\n      <td>2019</td>\n      <td>3</td>\n      <td>(7.821303606, -72.45497346)</td>\n    </tr>\n    <tr>\n      <th>11</th>\n      <td>7.685070</td>\n      <td>-72.244120</td>\n      <td>default</td>\n      <td>REPRESENTACIONES PLAST</td>\n      <td>1530729864</td>\n      <td>7/4/2018</td>\n      <td>Quarter 3</td>\n      <td>2018</td>\n      <td>7</td>\n      <td>(7.685070484, -72.24411964)</td>\n    </tr>\n    <tr>\n      <th>12</th>\n      <td>7.771344</td>\n      <td>-72.226170</td>\n      <td>default</td>\n      <td>COMERCIALIZADORA PIVECA CA</td>\n      <td>1530730169</td>\n      <td>7/4/2018</td>\n      <td>Quarter 3</td>\n      <td>2018</td>\n      <td>7</td>\n      <td>(7.771344184, -72.22617029999999)</td>\n    </tr>\n    <tr>\n      <th>13</th>\n      <td>22.284733</td>\n      <td>114.150910</td>\n      <td>default</td>\n      <td>Bitcoin ATM</td>\n      <td>1564732529</td>\n      <td>8/2/2019</td>\n      <td>Quarter 3</td>\n      <td>2019</td>\n      <td>8</td>\n      <td>(22.28473335, 114.1509104)</td>\n    </tr>\n    <tr>\n      <th>14</th>\n      <td>46.072914</td>\n      <td>14.468785</td>\n      <td>default</td>\n      <td>Avtoservis Belec</td>\n      <td>1544179564</td>\n      <td>12/7/2018</td>\n      <td>Quarter 4</td>\n      <td>2018</td>\n      <td>12</td>\n      <td>(46.0729143, 14.46878493)</td>\n    </tr>\n    <tr>\n      <th>15</th>\n      <td>46.540488</td>\n      <td>15.607334</td>\n      <td>food</td>\n      <td>Mlada lipa</td>\n      <td>1544179669</td>\n      <td>12/7/2018</td>\n      <td>Quarter 4</td>\n      <td>2018</td>\n      <td>12</td>\n      <td>(46.54048785, 15.60733438)</td>\n    </tr>\n  </tbody>\n</table>\n</div>"
     },
     "metadata": {},
     "execution_count": 23
    }
   ],
   "source": [
    "\n",
    "# Test df\n",
    "temp = venues_df.loc[:15]\n",
    "temp"
   ]
  },
  {
   "cell_type": "code",
   "execution_count": 26,
   "metadata": {},
   "outputs": [],
   "source": [
    "temp['Country'], temp['City'] = zip(*temp['latlong'].apply(get_country_city))"
   ]
  },
  {
   "cell_type": "code",
   "execution_count": 27,
   "metadata": {},
   "outputs": [
    {
     "output_type": "execute_result",
     "data": {
      "text/plain": "          Lat        Long Venue_Type  \\\n0   10.377644  -75.496582       food   \n1   40.647499   22.920163    default   \n2   42.000524   12.564636       food   \n3  -23.558042  -46.660100   shopping   \n4   45.539970   13.734852   shopping   \n5   10.181132  -68.005028    default   \n6   22.326323  114.205676       food   \n7   46.068307   14.543801    default   \n8   46.056131   14.508138       cafe   \n9   33.491607   49.052528    default   \n10   7.821304  -72.454973        atm   \n11   7.685070  -72.244120    default   \n12   7.771344  -72.226170    default   \n13  22.284733  114.150910    default   \n14  46.072914   14.468785    default   \n15  46.540488   15.607334       food   \n\n                                      Venue_Name  Created_On_Epoch  \\\n0                                  QUESOS NENECO        1564682328   \n1   Ταπετσαρίες αυτοκινήτων - ΚΑΡΑΜΠΕΡΗΣ ΧΡΗΣΤΟΣ        1530718484   \n2                     AZIENDA AGRICOLA FORTUNATO        1551976752   \n3                                       KriptoBR        1534775809   \n4                             Buzz, Planet Koper        1574094032   \n5                     Soporte PC y Criptomonedas        1551983266   \n6                                    Wandersnack        1564727493   \n7                                  Clarus Dental        1571312234   \n8                                       Trot Bar        1571312941   \n9                                  فروشگاه پرکنی        1540247322   \n10                         Athena Bitcoin Cajero        1552056980   \n11                       REPRESENTACIONES PLAST         1530729864   \n12                    COMERCIALIZADORA PIVECA CA        1530730169   \n13                                   Bitcoin ATM        1564732529   \n14                              Avtoservis Belec        1544179564   \n15                                    Mlada lipa        1544179669   \n\n    Created_On    Quarter  Year  Month                            latlong  \\\n0     8/1/2019  Quarter 3  2019      8        (10.37764401, -75.49658239)   \n1     7/4/2018  Quarter 3  2018      7         (40.64749893, 22.92016268)   \n2     3/7/2019  Quarter 1  2019      3         (42.00052447, 12.56463647)   \n3    8/20/2018  Quarter 3  2018      8       (-23.55804222, -46.66009963)   \n4   11/18/2019  Quarter 4  2019     11         (45.53996976, 13.73485208)   \n5     3/7/2019  Quarter 1  2019      3        (10.18113243, -68.00502777)   \n6     8/2/2019  Quarter 3  2019      8         (22.32632341, 114.2056757)   \n7   10/17/2019  Quarter 4  2019     10         (46.06830686, 14.54380095)   \n8   10/17/2019  Quarter 4  2019     10          (46.05613139, 14.5081383)   \n9   10/22/2018  Quarter 4  2018     10         (33.49160726, 49.05252814)   \n10    3/8/2019  Quarter 1  2019      3        (7.821303606, -72.45497346)   \n11    7/4/2018  Quarter 3  2018      7        (7.685070484, -72.24411964)   \n12    7/4/2018  Quarter 3  2018      7  (7.771344184, -72.22617029999999)   \n13    8/2/2019  Quarter 3  2019      8         (22.28473335, 114.1509104)   \n14   12/7/2018  Quarter 4  2018     12          (46.0729143, 14.46878493)   \n15   12/7/2018  Quarter 4  2018     12         (46.54048785, 15.60733438)   \n\n   Country                     City  \n0       CO                Cartagena  \n1       GR              Ampelokipoi  \n2       IT               Tor Lupara  \n3       BR                Sao Paulo  \n4       SI                    Koper  \n5       VE                 Valencia  \n6       HK                  Kowloon  \n7       SI                Ljubljana  \n8       SI                Ljubljana  \n9       IR                    Dorud  \n10      VE  San Antonio del Tachira  \n11      VE             San Josecito  \n12      VE            San Cristobal  \n13      HK                Hong Kong  \n14      SI                Ljubljana  \n15      SI                    Pekre  ",
      "text/html": "<div>\n<style scoped>\n    .dataframe tbody tr th:only-of-type {\n        vertical-align: middle;\n    }\n\n    .dataframe tbody tr th {\n        vertical-align: top;\n    }\n\n    .dataframe thead th {\n        text-align: right;\n    }\n</style>\n<table border=\"1\" class=\"dataframe\">\n  <thead>\n    <tr style=\"text-align: right;\">\n      <th></th>\n      <th>Lat</th>\n      <th>Long</th>\n      <th>Venue_Type</th>\n      <th>Venue_Name</th>\n      <th>Created_On_Epoch</th>\n      <th>Created_On</th>\n      <th>Quarter</th>\n      <th>Year</th>\n      <th>Month</th>\n      <th>latlong</th>\n      <th>Country</th>\n      <th>City</th>\n    </tr>\n  </thead>\n  <tbody>\n    <tr>\n      <th>0</th>\n      <td>10.377644</td>\n      <td>-75.496582</td>\n      <td>food</td>\n      <td>QUESOS NENECO</td>\n      <td>1564682328</td>\n      <td>8/1/2019</td>\n      <td>Quarter 3</td>\n      <td>2019</td>\n      <td>8</td>\n      <td>(10.37764401, -75.49658239)</td>\n      <td>CO</td>\n      <td>Cartagena</td>\n    </tr>\n    <tr>\n      <th>1</th>\n      <td>40.647499</td>\n      <td>22.920163</td>\n      <td>default</td>\n      <td>Ταπετσαρίες αυτοκινήτων - ΚΑΡΑΜΠΕΡΗΣ ΧΡΗΣΤΟΣ</td>\n      <td>1530718484</td>\n      <td>7/4/2018</td>\n      <td>Quarter 3</td>\n      <td>2018</td>\n      <td>7</td>\n      <td>(40.64749893, 22.92016268)</td>\n      <td>GR</td>\n      <td>Ampelokipoi</td>\n    </tr>\n    <tr>\n      <th>2</th>\n      <td>42.000524</td>\n      <td>12.564636</td>\n      <td>food</td>\n      <td>AZIENDA AGRICOLA FORTUNATO</td>\n      <td>1551976752</td>\n      <td>3/7/2019</td>\n      <td>Quarter 1</td>\n      <td>2019</td>\n      <td>3</td>\n      <td>(42.00052447, 12.56463647)</td>\n      <td>IT</td>\n      <td>Tor Lupara</td>\n    </tr>\n    <tr>\n      <th>3</th>\n      <td>-23.558042</td>\n      <td>-46.660100</td>\n      <td>shopping</td>\n      <td>KriptoBR</td>\n      <td>1534775809</td>\n      <td>8/20/2018</td>\n      <td>Quarter 3</td>\n      <td>2018</td>\n      <td>8</td>\n      <td>(-23.55804222, -46.66009963)</td>\n      <td>BR</td>\n      <td>Sao Paulo</td>\n    </tr>\n    <tr>\n      <th>4</th>\n      <td>45.539970</td>\n      <td>13.734852</td>\n      <td>shopping</td>\n      <td>Buzz, Planet Koper</td>\n      <td>1574094032</td>\n      <td>11/18/2019</td>\n      <td>Quarter 4</td>\n      <td>2019</td>\n      <td>11</td>\n      <td>(45.53996976, 13.73485208)</td>\n      <td>SI</td>\n      <td>Koper</td>\n    </tr>\n    <tr>\n      <th>5</th>\n      <td>10.181132</td>\n      <td>-68.005028</td>\n      <td>default</td>\n      <td>Soporte PC y Criptomonedas</td>\n      <td>1551983266</td>\n      <td>3/7/2019</td>\n      <td>Quarter 1</td>\n      <td>2019</td>\n      <td>3</td>\n      <td>(10.18113243, -68.00502777)</td>\n      <td>VE</td>\n      <td>Valencia</td>\n    </tr>\n    <tr>\n      <th>6</th>\n      <td>22.326323</td>\n      <td>114.205676</td>\n      <td>food</td>\n      <td>Wandersnack</td>\n      <td>1564727493</td>\n      <td>8/2/2019</td>\n      <td>Quarter 3</td>\n      <td>2019</td>\n      <td>8</td>\n      <td>(22.32632341, 114.2056757)</td>\n      <td>HK</td>\n      <td>Kowloon</td>\n    </tr>\n    <tr>\n      <th>7</th>\n      <td>46.068307</td>\n      <td>14.543801</td>\n      <td>default</td>\n      <td>Clarus Dental</td>\n      <td>1571312234</td>\n      <td>10/17/2019</td>\n      <td>Quarter 4</td>\n      <td>2019</td>\n      <td>10</td>\n      <td>(46.06830686, 14.54380095)</td>\n      <td>SI</td>\n      <td>Ljubljana</td>\n    </tr>\n    <tr>\n      <th>8</th>\n      <td>46.056131</td>\n      <td>14.508138</td>\n      <td>cafe</td>\n      <td>Trot Bar</td>\n      <td>1571312941</td>\n      <td>10/17/2019</td>\n      <td>Quarter 4</td>\n      <td>2019</td>\n      <td>10</td>\n      <td>(46.05613139, 14.5081383)</td>\n      <td>SI</td>\n      <td>Ljubljana</td>\n    </tr>\n    <tr>\n      <th>9</th>\n      <td>33.491607</td>\n      <td>49.052528</td>\n      <td>default</td>\n      <td>فروشگاه پرکنی</td>\n      <td>1540247322</td>\n      <td>10/22/2018</td>\n      <td>Quarter 4</td>\n      <td>2018</td>\n      <td>10</td>\n      <td>(33.49160726, 49.05252814)</td>\n      <td>IR</td>\n      <td>Dorud</td>\n    </tr>\n    <tr>\n      <th>10</th>\n      <td>7.821304</td>\n      <td>-72.454973</td>\n      <td>atm</td>\n      <td>Athena Bitcoin Cajero</td>\n      <td>1552056980</td>\n      <td>3/8/2019</td>\n      <td>Quarter 1</td>\n      <td>2019</td>\n      <td>3</td>\n      <td>(7.821303606, -72.45497346)</td>\n      <td>VE</td>\n      <td>San Antonio del Tachira</td>\n    </tr>\n    <tr>\n      <th>11</th>\n      <td>7.685070</td>\n      <td>-72.244120</td>\n      <td>default</td>\n      <td>REPRESENTACIONES PLAST</td>\n      <td>1530729864</td>\n      <td>7/4/2018</td>\n      <td>Quarter 3</td>\n      <td>2018</td>\n      <td>7</td>\n      <td>(7.685070484, -72.24411964)</td>\n      <td>VE</td>\n      <td>San Josecito</td>\n    </tr>\n    <tr>\n      <th>12</th>\n      <td>7.771344</td>\n      <td>-72.226170</td>\n      <td>default</td>\n      <td>COMERCIALIZADORA PIVECA CA</td>\n      <td>1530730169</td>\n      <td>7/4/2018</td>\n      <td>Quarter 3</td>\n      <td>2018</td>\n      <td>7</td>\n      <td>(7.771344184, -72.22617029999999)</td>\n      <td>VE</td>\n      <td>San Cristobal</td>\n    </tr>\n    <tr>\n      <th>13</th>\n      <td>22.284733</td>\n      <td>114.150910</td>\n      <td>default</td>\n      <td>Bitcoin ATM</td>\n      <td>1564732529</td>\n      <td>8/2/2019</td>\n      <td>Quarter 3</td>\n      <td>2019</td>\n      <td>8</td>\n      <td>(22.28473335, 114.1509104)</td>\n      <td>HK</td>\n      <td>Hong Kong</td>\n    </tr>\n    <tr>\n      <th>14</th>\n      <td>46.072914</td>\n      <td>14.468785</td>\n      <td>default</td>\n      <td>Avtoservis Belec</td>\n      <td>1544179564</td>\n      <td>12/7/2018</td>\n      <td>Quarter 4</td>\n      <td>2018</td>\n      <td>12</td>\n      <td>(46.0729143, 14.46878493)</td>\n      <td>SI</td>\n      <td>Ljubljana</td>\n    </tr>\n    <tr>\n      <th>15</th>\n      <td>46.540488</td>\n      <td>15.607334</td>\n      <td>food</td>\n      <td>Mlada lipa</td>\n      <td>1544179669</td>\n      <td>12/7/2018</td>\n      <td>Quarter 4</td>\n      <td>2018</td>\n      <td>12</td>\n      <td>(46.54048785, 15.60733438)</td>\n      <td>SI</td>\n      <td>Pekre</td>\n    </tr>\n  </tbody>\n</table>\n</div>"
     },
     "metadata": {},
     "execution_count": 27
    }
   ],
   "source": [
    "temp"
   ]
  },
  {
   "cell_type": "code",
   "execution_count": 63,
   "metadata": {},
   "outputs": [],
   "source": [
    "\n",
    "# Get country of origin THIS TAKES A LONG TIME\n",
    "venues_df['Country'] = venues_df['latlong'].apply(get_country)"
   ]
  },
  {
   "cell_type": "code",
   "execution_count": 64,
   "metadata": {},
   "outputs": [
    {
     "output_type": "execute_result",
     "data": {
      "text/plain": "         Lat        Long Venue_Type                       Venue_Name  \\\n0  35.661916  139.735097   shopping             GCゆきざき (GC Yukizaki)   \n1  35.668955  139.761436   shopping             GCゆきざき (GC Yukizaki)   \n2  35.663355  139.732951   shopping  GCゆきざき Gem Castle (GC Yukizaki)   \n3  35.663773  139.731444   shopping             GCゆきざき (GC Yukizaki)   \n4  49.595684   17.250112   shopping                    Marton's Work   \n\n   Created_On                            latlong Country  \n0  1580182467  (35.66191632, 139.73509669999999)      JP  \n1  1580182719          (35.66895489, 139.761436)      JP  \n2  1580182929  (35.66335459, 139.73295090000002)      JP  \n3  1580183013         (35.66377299, 139.7314435)      JP  \n4  1579299302          (49.59568425, 17.2501123)      CZ  ",
      "text/html": "<div>\n<style scoped>\n    .dataframe tbody tr th:only-of-type {\n        vertical-align: middle;\n    }\n\n    .dataframe tbody tr th {\n        vertical-align: top;\n    }\n\n    .dataframe thead th {\n        text-align: right;\n    }\n</style>\n<table border=\"1\" class=\"dataframe\">\n  <thead>\n    <tr style=\"text-align: right;\">\n      <th></th>\n      <th>Lat</th>\n      <th>Long</th>\n      <th>Venue_Type</th>\n      <th>Venue_Name</th>\n      <th>Created_On</th>\n      <th>latlong</th>\n      <th>Country</th>\n    </tr>\n  </thead>\n  <tbody>\n    <tr>\n      <th>0</th>\n      <td>35.661916</td>\n      <td>139.735097</td>\n      <td>shopping</td>\n      <td>GCゆきざき (GC Yukizaki)</td>\n      <td>1580182467</td>\n      <td>(35.66191632, 139.73509669999999)</td>\n      <td>JP</td>\n    </tr>\n    <tr>\n      <th>1</th>\n      <td>35.668955</td>\n      <td>139.761436</td>\n      <td>shopping</td>\n      <td>GCゆきざき (GC Yukizaki)</td>\n      <td>1580182719</td>\n      <td>(35.66895489, 139.761436)</td>\n      <td>JP</td>\n    </tr>\n    <tr>\n      <th>2</th>\n      <td>35.663355</td>\n      <td>139.732951</td>\n      <td>shopping</td>\n      <td>GCゆきざき Gem Castle (GC Yukizaki)</td>\n      <td>1580182929</td>\n      <td>(35.66335459, 139.73295090000002)</td>\n      <td>JP</td>\n    </tr>\n    <tr>\n      <th>3</th>\n      <td>35.663773</td>\n      <td>139.731444</td>\n      <td>shopping</td>\n      <td>GCゆきざき (GC Yukizaki)</td>\n      <td>1580183013</td>\n      <td>(35.66377299, 139.7314435)</td>\n      <td>JP</td>\n    </tr>\n    <tr>\n      <th>4</th>\n      <td>49.595684</td>\n      <td>17.250112</td>\n      <td>shopping</td>\n      <td>Marton's Work</td>\n      <td>1579299302</td>\n      <td>(49.59568425, 17.2501123)</td>\n      <td>CZ</td>\n    </tr>\n  </tbody>\n</table>\n</div>"
     },
     "metadata": {},
     "execution_count": 64
    }
   ],
   "source": [
    "venues_df.head()"
   ]
  },
  {
   "cell_type": "code",
   "execution_count": 66,
   "metadata": {},
   "outputs": [],
   "source": [
    "venues_df.to_csv('2LCountryCodes_post2018.csv')"
   ]
  }
 ],
 "metadata": {
  "language_info": {
   "codemirror_mode": {
    "name": "ipython",
    "version": 3
   },
   "file_extension": ".py",
   "mimetype": "text/x-python",
   "name": "python",
   "nbconvert_exporter": "python",
   "pygments_lexer": "ipython3",
   "version": "3.8.2-final"
  },
  "orig_nbformat": 2,
  "kernelspec": {
   "name": "python38264bitdatmineconda86b6e4bf63764017b08f3434f2efacc2",
   "display_name": "Python 3.8.2 64-bit ('dat_mine': conda)"
  }
 },
 "nbformat": 4,
 "nbformat_minor": 2
}